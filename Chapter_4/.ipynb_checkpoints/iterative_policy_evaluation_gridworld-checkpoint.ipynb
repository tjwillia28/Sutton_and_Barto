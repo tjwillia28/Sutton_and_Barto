{
 "cells": [
  {
   "cell_type": "markdown",
   "metadata": {},
   "source": [
    "# Iterative Policy Evaluation, for estimating V $\\approx v_{\\pi}$"
   ]
  },
  {
   "cell_type": "markdown",
   "metadata": {},
   "source": [
    "- To produce each successive approximation,$v_{k+1}$ from $v_{k}$, iterative policy evaluation applies the same operation to each state s: it replaces the old value of s with a new value obtained from the old values of the successor states of s, and the expected immediate rewards, along all the one-step transitions possible under the policy being evaluated. We call this kind of operation an expected update.\n",
    "- Each iteration of iterative policy evaluation updates the value of every state once to produce the new approximate value function $v_{k+1}$\n",
    "- As $ k \\rightarrow \\infty$, $v_{k} \\rightarrow v_{\\pi}$"
   ]
  },
  {
   "cell_type": "code",
   "execution_count": 35,
   "metadata": {},
   "outputs": [],
   "source": [
    "import numpy as np\n",
    "import math\n",
    "import matplotlib.pyplot as plt"
   ]
  },
  {
   "cell_type": "code",
   "execution_count": 36,
   "metadata": {},
   "outputs": [],
   "source": [
    "# Actions\n",
    "actions = [np.array([-1, 0]), \n",
    "           np.array([1, 0]), \n",
    "           np.array([0, 1]),\n",
    "           np.array([0, -1])]\n",
    "\n",
    "# Action Probability = 0.25 because its random\n",
    "action_prob = 0.25\n",
    "\n",
    "# Length of Grid\n",
    "length = 4\n",
    "\n",
    "# Theta = e^-5\n",
    "theta = math.exp(-10)"
   ]
  },
  {
   "cell_type": "code",
   "execution_count": 37,
   "metadata": {},
   "outputs": [],
   "source": [
    "def step(state, action):\n",
    "    state = np.array(state)\n",
    "    next_state = state + action\n",
    "    # Can't go out of bounds!\n",
    "    if (next_state[0] < 0) or (next_state[1] < 0) or (next_state[0] >= length) or (next_state[1] >= length):\n",
    "        next_state = state\n",
    "    \n",
    "    reward = -1\n",
    "    return reward, next_state\n",
    "    \n",
    "def terminal_state(state):\n",
    "    if (state[0] == 0 and state[1] == 0) or (state[0] == length - 1 and state[1] == length - 1):\n",
    "        return True\n",
    "    return False\n",
    "\n",
    "def iterative_policy_evaluation(length, actions, action_prob, theta):\n",
    "    new_values = np.zeros([length, length])\n",
    "    state_values = new_values.copy()\n",
    "    k = 0\n",
    "    deltas = []\n",
    "    while True:\n",
    "        for i in range(length):\n",
    "            for j in range(length):\n",
    "                if terminal_state([i, j]):\n",
    "                        continue\n",
    "                value = 0\n",
    "                for action in actions:\n",
    "                    reward, [new_i, new_j] = step([i, j], action)\n",
    "                    value += action_prob*(reward + state_values[new_i, new_j])\n",
    "                    new_values[i, j] = value\n",
    "        \n",
    "        delta = np.sum(np.abs(new_values - state_values))\n",
    "        deltas.append(delta)\n",
    "        if delta < theta:\n",
    "            break\n",
    "        \n",
    "        state_values = new_values.copy()\n",
    "        k += 1\n",
    "        \n",
    "    print('iteration: {}'.format(k))\n",
    "    print(state_values)\n",
    "    \n",
    "    plt.plot(deltas, label = 'delta')\n",
    "    plt.xlabel('Iteration')\n",
    "    plt.ylabel('delta')\n",
    "    plt.legend()\n",
    "    \n",
    "    return k, state_values          "
   ]
  },
  {
   "cell_type": "code",
   "execution_count": 38,
   "metadata": {},
   "outputs": [
    {
     "name": "stdout",
     "output_type": "stream",
     "text": [
      "iteration: 231\n",
      "[[  0.         -13.99995544 -19.99993397 -21.99992611]\n",
      " [-13.99995544 -17.99994183 -19.99993441 -19.99993397]\n",
      " [-19.99993397 -19.99993441 -17.99994183 -13.99995544]\n",
      " [-21.99992611 -19.99993397 -13.99995544   0.        ]]\n"
     ]
    },
    {
     "data": {
      "text/plain": [
       "(231, array([[  0.        , -13.99995544, -19.99993397, -21.99992611],\n",
       "        [-13.99995544, -17.99994183, -19.99993441, -19.99993397],\n",
       "        [-19.99993397, -19.99993441, -17.99994183, -13.99995544],\n",
       "        [-21.99992611, -19.99993397, -13.99995544,   0.        ]]))"
      ]
     },
     "execution_count": 38,
     "metadata": {},
     "output_type": "execute_result"
    },
    {
     "data": {
      "image/png": "[encoded data removed]",
      "text/plain": [
       "<Figure size 432x288 with 1 Axes>"
      ]
     },
     "metadata": {},
     "output_type": "display_data"
    }
   ],
   "source": [
    "iterative_policy_evaluation(length, actions, action_prob, theta )\n"
   ]
  },
  {
   "cell_type": "code",
   "execution_count": null,
   "metadata": {},
   "outputs": [],
   "source": []
  },
  {
   "cell_type": "code",
   "execution_count": null,
   "metadata": {},
   "outputs": [],
   "source": []
  },
  {
   "cell_type": "code",
   "execution_count": null,
   "metadata": {},
   "outputs": [],
   "source": []
  },
  {
   "cell_type": "code",
   "execution_count": null,
   "metadata": {},
   "outputs": [],
   "source": []
  },
  {
   "cell_type": "code",
   "execution_count": null,
   "metadata": {},
   "outputs": [],
   "source": []
  },
  {
   "cell_type": "code",
   "execution_count": null,
   "metadata": {},
   "outputs": [],
   "source": []
  }
 ],
 "metadata": {
  "kernelspec": {
   "display_name": "Python 3",
   "language": "python",
   "name": "python3"
  },
  "language_info": {
   "codemirror_mode": {
    "name": "ipython",
    "version": 3
   },
   "file_extension": ".py",
   "mimetype": "text/x-python",
   "name": "python",
   "nbconvert_exporter": "python",
   "pygments_lexer": "ipython3",
   "version": "3.6.5"
  }
 },
 "nbformat": 4,
 "nbformat_minor": 2
}
