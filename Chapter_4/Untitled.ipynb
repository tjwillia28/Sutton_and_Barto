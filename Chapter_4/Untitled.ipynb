{
 "cells": [
  {
   "cell_type": "code",
   "execution_count": 1,
   "metadata": {},
   "outputs": [],
   "source": [
    "import numpy as np"
   ]
  },
  {
   "cell_type": "code",
   "execution_count": 2,
   "metadata": {},
   "outputs": [],
   "source": [
    "a = np.array(range(9)).reshape(3,3)"
   ]
  },
  {
   "cell_type": "code",
   "execution_count": 5,
   "metadata": {},
   "outputs": [
    {
     "name": "stdout",
     "output_type": "stream",
     "text": [
      "a: \n",
      "[[0 1 2]\n",
      " [3 4 5]\n",
      " [6 7 8]]\n"
     ]
    }
   ],
   "source": [
    "print('a: \\n' + str(a))"
   ]
  },
  {
   "cell_type": "code",
   "execution_count": 30,
   "metadata": {},
   "outputs": [
    {
     "name": "stdout",
     "output_type": "stream",
     "text": [
      "axis 0: [6 7 8]\n",
      "axis 1: [2 5 8]\n"
     ]
    }
   ],
   "source": [
    "print('axis 0: {}'.format(np.max(a, axis =0)))\n",
    "print('axis 1: {}'.format(np.max(a, axis = 1)))"
   ]
  },
  {
   "cell_type": "code",
   "execution_count": 51,
   "metadata": {},
   "outputs": [],
   "source": [
    "new_policy = np.zeros(16)\n",
    "Q = np.zeros([16, 4])\n",
    "for state in range(16):\n",
    "    for action in range(4):\n",
    "        Q[state][action] += np.random.normal()\n",
    "new_policy = np.argmax(Q, axis = 1)\n",
    "new_value_fxn = np.max(Q, axis = 1)"
   ]
  },
  {
   "cell_type": "code",
   "execution_count": 53,
   "metadata": {},
   "outputs": [
    {
     "name": "stdout",
     "output_type": "stream",
     "text": [
      "Q: [[-0.28453222 -0.10550173  0.76534994 -0.35684915]\n",
      " [ 1.15821519 -0.968518   -1.55001043  0.1711268 ]\n",
      " [-0.27844938 -0.10566145 -0.01571092 -1.41535006]\n",
      " [ 0.48224506  2.86250589  0.8668819   1.48027733]\n",
      " [-0.32472411 -1.73658074  0.23507829  0.01965643]\n",
      " [-1.27209837  0.70186496  0.03885979  1.52258452]\n",
      " [ 0.32931036  0.71000955 -0.31209782 -0.73396445]\n",
      " [-0.77441484 -0.70241656  0.10525777 -0.47933346]\n",
      " [-0.77755021 -0.65182899  1.42109961 -1.94362761]\n",
      " [-0.19285701 -0.15276761  2.52353519 -1.13479227]\n",
      " [-0.68125243 -0.81506536 -0.13468303 -0.72645215]\n",
      " [-1.05198802  0.77526515 -0.77031866 -0.15631317]\n",
      " [-0.47785681 -0.65792699  0.23504729 -0.25107975]\n",
      " [-1.34209256 -1.06164324 -1.22558651  0.64213938]\n",
      " [ 1.67036051 -0.30710041 -0.65352296  0.464906  ]\n",
      " [-0.83671004  0.01733574 -0.16238235 -0.06628751]]\n"
     ]
    }
   ],
   "source": [
    "print('Q: {}'.format(Q))"
   ]
  },
  {
   "cell_type": "code",
   "execution_count": 50,
   "metadata": {},
   "outputs": [
    {
     "name": "stdout",
     "output_type": "stream",
     "text": [
      "new_policy: [1 2 3 3 0 3 1 3 2 1 2 2 2 3 1 3]\n"
     ]
    }
   ],
   "source": [
    "print('new_policy: {}'.format(new_policy))"
   ]
  },
  {
   "cell_type": "code",
   "execution_count": 52,
   "metadata": {},
   "outputs": [
    {
     "name": "stdout",
     "output_type": "stream",
     "text": [
      "new_value_fxn: [ 0.76534994  1.15821519 -0.01571092  2.86250589  0.23507829  1.52258452\n",
      "  0.71000955  0.10525777  1.42109961  2.52353519 -0.13468303  0.77526515\n",
      "  0.23504729  0.64213938  1.67036051  0.01733574]\n"
     ]
    }
   ],
   "source": [
    "print('new_value_fxn: {}'.format(new_value_fxn))"
   ]
  },
  {
   "cell_type": "code",
   "execution_count": null,
   "metadata": {},
   "outputs": [],
   "source": []
  }
 ],
 "metadata": {
  "kernelspec": {
   "display_name": "Python 3",
   "language": "python",
   "name": "python3"
  },
  "language_info": {
   "codemirror_mode": {
    "name": "ipython",
    "version": 3
   },
   "file_extension": ".py",
   "mimetype": "text/x-python",
   "name": "python",
   "nbconvert_exporter": "python",
   "pygments_lexer": "ipython3",
   "version": "3.6.5"
  }
 },
 "nbformat": 4,
 "nbformat_minor": 2
}
